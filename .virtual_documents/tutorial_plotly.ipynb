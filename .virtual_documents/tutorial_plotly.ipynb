import plotly.express as px


# Criando a figura 
fig = px.line(x=[1, 2, 3], y =[1, 2, 3])

# plotando gráfico
print(fig)


import plotly.express as px 
  
  
# Criando Gráfico
fig = px.line(x=[1, 2, 3], y=[1, 2, 3]) 
  
# showing the plot
fig.show()


# exemplo 02
import plotly.express as px

# usando dataset Iris
df = px.data.iris()

# plotting the line chart
fig = px.line(df, x="species", y="petal_width")

# showing the plot 
fig.show()


df.columns


import plotly.express  as px

# using the iris dataset
df = px.data.iris()


# plotando gráfico 
fig = px.bar(df, x='sepal_width', y="sepal_length") # largura da sépala e comprimento sépala

# mostrando o plot 
fig.show()


import plotly.express as px

# usando dataser Iris 
df = px.data.iris()

# plotando gráfico 
fig = px.histogram(df, x="sepal_length", y="petal_width")

# mostrando o plot 
fig.show()


import plotly.express as px

# usando dataset Iris 
df = px.data.iris()

# plotando gráfico 
fig = px.scatter(df, x="species", y="petal_width")

# mostrando plot 
fig.show()


import plotly.express as px

# usando dataset iris 
df = px.data.iris()

# plotting the bubble chart 
fig = px.scatter(df, x="species", y="petal_width",
                size="petal_length", color="species")

# mostrando plot
fig.show()


import plotly.express as px 

# usando dataser tips 
df = px.data.tips() # Index(['total_bill', 'tip', 'sex', 'smoker', 'day', 'time', 'size']

# plotando Gráfica
fig = px.pie(df, values="total_bill", names='day')


# mostrando plot 
fig.show()


import plotly.express as px 

# usando o dataset tips 
df = px.data.tips()

# plotando gráfico
fig=px.box(df, x="day", y="total_bill", color="day")

# mostrando Gráfico 
fig.show()


import plotly.express as px 

# usanso dataset tips 
df = px.data.tips()

# plotando o gráfico tipo violino 
fig = px.violin(
    df,
    x = "day",
    y = "total_bill",
    color="day"
)

# mostrando gráfico 
fig.show()


import plotly.figure_factory as ff

df = [dict(Task="Job A", Start='2009-01-01', Finish='2009-02-28', Complete=10),
      dict(Task="Job B", Start='2008-12-05', Finish='2009-04-15', Complete=60),
      dict(Task="Job C", Start='2009-02-20', Finish='2009-05-30', Complete=95)]

fig = ff.create_gantt(df, colors='Viridis', index_col='Complete', show_colorbar=True)
fig.show()


import plotly.graph_objects as go
import numpy as np

# Criando o valor X, Y que irá alterar os valores de Z como uma função
feature_X = np.arange(0, 50, 2)
feature_Y = np.arange(0,50,3)

# Criando uma grade 2-D de recursos
[X, Y] = np.meshgrid(feature_X, feature_Y)

Z = np.cos(X/2) + np.sin(Y / 4)

# Plotando o Gráfico
fig = go.Figure(
    data=go.Contour(x=feature_X, y=feature_Y, z=Z))

fig.show()


import plotly.express as px


# usando dataser iris 
df = px.data.iris()
iris_corr = df.drop('species', axis=1).corr()


#Plotando Gráfico
fig = px.imshow(iris_corr ,text_auto=True)

# mostando gráfico
fig.show()


import plotly.express as px 

# usando dataset iris 
df = px.data.iris()

# calculando o campo erro 
df['error'] = df['petal_length']/100

# Plotando o gráfico
fig = px.scatter(
    data_frame=df,
    x = "species",
    y = "petal_width",
    error_x="error",
    error_y="error"
)

# mostrando o gráfico
fig.show()


import plotly.express as px

# usando dataser tips 
df = px.data.tips() 

# plotando Gráfico 
fig = px.line_3d(
    data_frame=df, 
    x='sex',
    y='day', 
    z='time', 
    color='sex'
)

# mostrando Gráfico 
fig.show()


import plotly.express as px 

# usando dataset iris 
df = px.data.iris() 

# plotando gráfico 
fig = px.scatter_3d(
    data_frame=df,
    x='sepal_width', 
    y='sepal_length', 
    z='petal_width',
    color='species'
)

# mostrando plot 
fig.show()




import plotly.graph_objects as go 
import numpy as np

# Dados a serem plotados
x = np.outer(np.linspace(-2, 2, 30), np.ones(30)) 
y = x.copy().T 
z = np.cos(x ** 2 + y ** 2) 

# Plotando a figura
fig = go.Figure(data=go.Surface(x=x, y=y, z=z))

fig.show()


import plotly.graph_objects as go 
import numpy as np 

# Criando dataset com dados randomicos 
# travando o dados 
np.random.seed(42)

# data para se plotado 
random_x = np.random.randint(1, 101, 100)
random_y = np.random.randint(1, 101, 100)

# plotando dados 
fig = go.Figure(
    data=[
        go.Scatter(
            x=random_x,
            y=random_y,
            mode='markers'
        )
    ]
)

fig.update_layout(
    updatemenus=[
        dict(
            buttons=list([
                dict(
                    args=["type", "scatter"],
                    label="Scatter Plot",
                    method="restyle"
                ),
                dict(
                    args=["type", "bar"],
                    label="Bar  Chart",
                    method="restyle"
                ),
            ]),
            direction="down"
        ),
    ]
)



fig.show()



import plotly.graph_objects as go 
import plotly.express as px 
import pandas as pd 

# carregando dataset
data = px.data.tips()

# Criando o Gráfico
fig = go.Figure(
    data=go.Scatter(
        x=data['day'],
        y=data['tip'],
        mode='markers'
    ),
)

# add dropdown
fig.update_layout(
    updatemenus=[
        dict(
            type='buttons',
            direction='left',
            buttons=list([
                dict(
                    args=['type', 'scatter'],
                    label='Scatter Plot',
                    method='restyle'
                ),
                dict(
                    args=['type', 'bar'],
                    label='Bar Chart',
                    method='restyle'
                ),
            ]),
        ),
    ],
)

# Mostrando Gráfico
fig.show()


import plotly.graph_objects as go
import plotly.express as px
import pandas as pd 


# Obtendo dados
df = px.data.tips() # 'total_bill', 'tip', 'sex', 'smoker', 'day', 'time', 'size'

x = df['total_bill']
y = df['day']

# Criando gráfico
fig = go.Figure(
    data=go.Scatter(
        x=x,
        y=y,
        mode='lines'
    ),
)

fig.update_layout(
    xaxis=dict(
        rangeselector=dict(
            buttons=list([
                dict(
                    count=1,
                    step="day",
                    stepmode='backward'
                )
            ])
        ),
        rangeslider=dict(visible=True),
    ),
)


fig.show()


df.columns


## ..src/chapter-02-01.py

import numpy as np 
import plotly
import chart_studio
import chart_studio.plotly as py
import plotly.express as px 

# atribuir valores a x e y
x = np.random.randint(low=1, high=50, size=50)
y = np.random.randint(low=51, high=100, size=50)
#print(f"{x} \n \n{y}")

# Criando Gráfico
fig = px.scatter(x=x, y=y)

#fig.show()

import chart_studio as ct

username = 'novais03'
api_key = 'BHBZxpK3Tscf4NThymJ6'

ct.tools.set_credentials_file(
    username=username,
    api_key=api_key
)

py.plot(fig, filename='Basic Scatter', auto_open=False, sharing='public')


# chapter-03-01.py

import plotly.graph_objects  as go
import numpy as np

x = np.arange(10) # [0 1 2 3 4 5 6 7 8 9]
#print(x)

# plotando Gráfico
fig = go.Figure(data=go.Scatter(x=x, y=x**2))


# mostrando gráfico
fig.show()


# chapter-03-01.py

import plotly.graph_objects as go
import numpy as np 
np.random.seed(1)

N  = 100
x  = np.linspace(0,1,N)
y0 = np.random.randn(N) + 5
y1 = np.random.randn(N)
y2 = np.random.randn(N) - 5


# plotando Gráfico
fig = go.Figure()
fig.add_trace(
    go.Scatter(
        x=x,
        y=y0,
        mode='lines',
        name='lines'
    ),
)

fig.add_trace(
    go.Scatter(
        x=x,
        y=y1,
        mode='lines+markers',
        name='lines+markers'
    ),
)

fig.add_trace(
    go.Scatter(
        x=x,
        y=y2,
        mode='markers',
        name='markers'
    ),
)

# mostrando gráfico
fig.show()


# exportando para web
import chart_studio as ct
import chart_studio.plotly as py

username = 'novais03'
api_key = 'BHBZxpK3Tscf4NThymJ6'

ct.tools.set_credentials_file(
    username=username,
    api_key=api_key
)

py.plot(fig, filename='Line Plot Modes', auto_open=True, sharing='public')


### Line charts in Dash ###

# chapter-03-03.py

# import packagers
from dash import Dash, dcc, html, Input, Output, callback
import plotly.express as px 
import dash_bootstrap_components as dbc

external_stylesheets = [dbc.themes.BOOTSTRAP]

# iniciando app

app = Dash(__name__, external_stylesheets=external_stylesheets)


# design
app.layout = html.Div([
    html.H4("Progressão das despesas de vida de países por continentes"),
    dcc.Graph(id='graph'),
    dcc.Checklist(
        id='checklist',
        options=["Asia", "Europe", "Africa", "Americas", "Oceania"],
        value=["America", "Oceania"],
        inline=True
    ),
])

@callback(
    Output("graph", 'figure'),
    Input("checklist", 'value')
)

def update_line_chart(continents):
    df = px.data.gapminder()
    mask = df['continent'].isin(continents)
    fig = px.line(df[mask], x='year', y='lifeExp', color='country')
    
    return fig
    



# runa

if __name__ == '__main__':
    app.run_server(debug=True)


# Grafico de linhas com rótilo

# chapter-03-04.py

import plotly.express as px 

df = px.data.gapminder().query("country in ['Canada', 'Botswana']")

fig = px.line(df, x='lifeExp', y='gdpPercap', color='country', text='year')

fig.update_traces(textposition="bottom right")

fig.show()



